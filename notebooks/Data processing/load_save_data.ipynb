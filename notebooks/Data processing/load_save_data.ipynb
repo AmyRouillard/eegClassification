{
  "cells": [
    {
      "cell_type": "code",
      "execution_count": null,
      "metadata": {
        "colab": {
          "base_uri": "https://localhost:8080/"
        },
        "id": "E-BxHOx62rbf",
        "outputId": "7443af65-41e5-463e-ab69-db9c9cb766e5"
      },
      "outputs": [
        {
          "name": "stdout",
          "output_type": "stream",
          "text": [
            "Drive already mounted at /content/drive; to attempt to forcibly remount, call drive.mount(\"/content/drive\", force_remount=True).\n"
          ]
        }
      ],
      "source": [
        "from google.colab import drive\n",
        "drive.mount('/content/drive')"
      ]
    },
    {
      "cell_type": "code",
      "execution_count": null,
      "metadata": {
        "colab": {
          "base_uri": "https://localhost:8080/"
        },
        "id": "RfPr4NSH2rbn",
        "outputId": "d571194d-aa2e-4205-bbad-e1404eafa505"
      },
      "outputs": [
        {
          "name": "stdout",
          "output_type": "stream",
          "text": [
            "/content/drive/MyDrive/Sun/ML Shock/Final project\n"
          ]
        }
      ],
      "source": [
        "%cd /content/drive/MyDrive/Sun/ML Shock/Final project/"
      ]
    },
    {
      "cell_type": "code",
      "execution_count": null,
      "metadata": {
        "id": "Ceyg_R2A2rbq"
      },
      "outputs": [],
      "source": [
        "import sys\n",
        "# sys.path.insert(0,\"C:/Users/Amy/Desktop/Green_Git/eegClassification/utils\")\n",
        "sys.path.insert(0,\"/content/drive/MyDrive/Sun/ML Shock/Final project/\")"
      ]
    },
    {
      "cell_type": "code",
      "execution_count": null,
      "metadata": {
        "id": "Uqw8yc5U2rbr"
      },
      "outputs": [],
      "source": [
        "# Import libraries\n",
        "\n",
        "import numpy as np\n",
        "import pandas as pd\n",
        "import matplotlib.pyplot as plt\n",
        "from CustomDataset import CustomDataset"
      ]
    },
    {
      "cell_type": "code",
      "execution_count": null,
      "metadata": {
        "id": "vYU0CgCI2rbv"
      },
      "outputs": [],
      "source": [
        "# Load (train or test) data from csv file\n",
        "# path = \"C:/Users/Amy/Desktop/Green_Git/eegClassification/sample_data/\"\n",
        "# path_df = \"C:/Users/Amy/Desktop/Green_Git/eegClassification/files/\"\n",
        "# scaler_path = \"C:/Users/Amy/Desktop/Green_Git/eegClassification/models/scalers/\"\n",
        "\n",
        "path = \"./data/\"\n",
        "path_df = \"./\"\n",
        "scaler_path = \"./data/\"\n",
        "path_model = \"./model_custom_v1.pt\"\n"
      ]
    },
    {
      "cell_type": "code",
      "execution_count": null,
      "metadata": {
        "id": "nLS4zDMr2rbv"
      },
      "outputs": [],
      "source": [
        "# Type of input data\n",
        "data_type = \"spec\" # \"eeg_raw\" #\"eeg_spec\"  #\n",
        "# Type of mscale\n",
        "scaler_type = \"min_max\" #\"standard\" #\n",
        "# number of subprocesses to use for data loading\n",
        "num_workers = 0\n",
        "# how many samples per batch to load\n",
        "batch_size = 64"
      ]
    },
    {
      "cell_type": "code",
      "execution_count": null,
      "metadata": {
        "id": "WPHFZfTG2rbw"
      },
      "outputs": [],
      "source": [
        "if data_type == \"spec\":\n",
        "    input_shape = (4,299,100)\n",
        "elif data_type == \"eeg_spec\":\n",
        "    input_shape = (20,129,43)\n",
        "elif data_type == \"eeg_raw\":\n",
        "    input_shape = (20,9800)"
      ]
    },
    {
      "cell_type": "code",
      "execution_count": null,
      "metadata": {
        "id": "oPpNGFFY2rbx"
      },
      "outputs": [],
      "source": [
        "def load_data(path, path_df, data_type, text):\n",
        "\n",
        "    train=True\n",
        "    df = pd.read_csv(path_df + f\"{text}_processed.csv\")\n",
        "\n",
        "\n",
        "\n",
        "    data_dir = (\n",
        "        f\"train_eegs/\"\n",
        "        if \"eeg\" in data_type\n",
        "        else f\"train_spectrograms/\"\n",
        "    )\n",
        "    data_dir = path + data_dir\n",
        "\n",
        "    ###\n",
        "    # files = os.listdir(data_dir)\n",
        "    # df = df[\n",
        "    #     df[\"eeg_id\" if \"eeg\" in data_type else \"spectrogram_id\"].isin(\n",
        "    #         [int(f.split(\".\")[0]) for f in files]\n",
        "    #     )\n",
        "    # ]\n",
        "    ###\n",
        "\n",
        "    votes_cols = [\n",
        "        \"seizure_vote\",\n",
        "        \"lpd_vote\",\n",
        "        \"gpd_vote\",\n",
        "        \"lrda_vote\",\n",
        "        \"grda_vote\",\n",
        "        \"other_vote\",\n",
        "    ]\n",
        "    label_cols = (\n",
        "        [\"eeg_id\", \"label_id\", \"eeg_label_offset_seconds\"]\n",
        "        if \"eeg\" in data_type\n",
        "        else [\"spectrogram_id\", \"label_id\", \"spectrogram_label_offset_seconds\"]\n",
        "    )\n",
        "    offset = (\n",
        "        [\"eeg_label_offset_seconds\"]\n",
        "        if \"eeg\" in data_type\n",
        "        else [\"spectrogram_label_offset_seconds\"]\n",
        "    )\n",
        "\n",
        "    # if info_cols not in df add it and set to zero\n",
        "    for col in offset:\n",
        "        if col not in df.columns:\n",
        "            df[col] = 0\n",
        "    # if df does not contain \"label_id\" add a unique label_id\n",
        "    if \"label_id\" not in df.columns:\n",
        "        df[\"label_id\"] = range(len(df))\n",
        "\n",
        "    info = {}\n",
        "    df_gr = df.groupby(label_cols)\n",
        "    for name, group in df_gr:\n",
        "        # first row of group\n",
        "        info[name] = {\"votes\": group[votes_cols].values[0] if train else None}\n",
        "\n",
        "    return data_dir, data_type, info\n"
      ]
    },
    {
      "cell_type": "code",
      "execution_count": null,
      "metadata": {
        "colab": {
          "base_uri": "https://localhost:8080/"
        },
        "id": "gVR4zfiO2rbx",
        "outputId": "553b3702-7b08-45f9-8731-ad95d93453c6"
      },
      "outputs": [
        {
          "data": {
            "text/plain": [
              "('./data/train_spectrograms/', 'spec', 65509)"
            ]
          },
          "execution_count": 12,
          "metadata": {},
          "output_type": "execute_result"
        }
      ],
      "source": [
        "data_dir, data_type, info = load_data(path, path_df, data_type, \"train\")\n",
        "data_dir, data_type, len(info)"
      ]
    },
    {
      "cell_type": "code",
      "execution_count": null,
      "metadata": {
        "id": "SCToT_ky2rby"
      },
      "outputs": [],
      "source": [
        "train_data = CustomDataset(data_dir, data_type, info)\n",
        "train_loader = DataLoader(train_data, batch_size=batch_size, shuffle=True, num_workers=num_workers)\n"
      ]
    },
    {
      "cell_type": "code",
      "execution_count": null,
      "metadata": {
        "colab": {
          "base_uri": "https://localhost:8080/"
        },
        "id": "v_e_yCWq3o4q",
        "outputId": "7a490cda-1d67-467a-decb-9f5b8908ded3"
      },
      "outputs": [
        {
          "data": {
            "text/plain": [
              "('./data/train_spectrograms/', 'spec', 21777)"
            ]
          },
          "execution_count": 14,
          "metadata": {},
          "output_type": "execute_result"
        }
      ],
      "source": [
        "data_dir, data_type, info_val  = load_data(path, path_df, data_type, \"val\")\n",
        "data_dir, data_type, len(info_val)"
      ]
    },
    {
      "cell_type": "code",
      "execution_count": null,
      "metadata": {
        "id": "C1kYk8Fu2rby"
      },
      "outputs": [],
      "source": [
        "valid_data = CustomDataset(data_dir, data_type, info_val)\n",
        "valid_loader = DataLoader(valid_data, batch_size=batch_size, shuffle=True, num_workers=num_workers)"
      ]
    },
    {
      "cell_type": "code",
      "execution_count": null,
      "metadata": {
        "id": "67H-71gO3ZLc"
      },
      "outputs": [],
      "source": [
        "data_dir, data_type, info_test = load_data(path, path_df, data_type, \"test\")\n",
        "data_dir, data_type, len(info_test)"
      ]
    },
    {
      "cell_type": "code",
      "execution_count": null,
      "metadata": {
        "id": "0EPEftT33nAm"
      },
      "outputs": [],
      "source": [
        "test_data = CustomDataset(data_dir, data_type, info_test)\n",
        "test_loader = DataLoader(test_data, batch_size=batch_size, shuffle=True, num_workers=num_workers)"
      ]
    },
    {
      "cell_type": "code",
      "execution_count": null,
      "metadata": {},
      "outputs": [],
      "source": [
        "# loop through data and save it as a numpy array\n",
        "count = 0\n",
        "for X, label, votes  in train_loader:\n",
        "    # save the images\n",
        "    np.save(f\"./data_prep/train/images_{count}.npy\", X.numpy())\n",
        "    # save the labels\n",
        "    np.save(f\"./data_prep/train/labels_{count}.npy\", label.numpy())\n",
        "    # save the votes\n",
        "    np.save(f\"./data_prep/train/votes_{count}.npy\", votes.numpy())\n",
        "\n",
        "    count += 1\n",
        "\n",
        "    if count > 100:\n",
        "        break\n",
        "    \n"
      ]
    },
    {
      "cell_type": "code",
      "execution_count": null,
      "metadata": {},
      "outputs": [],
      "source": [
        "# loop through data and save it as a numpy array\n",
        "count = 0\n",
        "for X, label, votes  in valid_loader:\n",
        "    # save the images\n",
        "    np.save(f\"./data_prep/valid/images_{count}.npy\", X.numpy())\n",
        "    # save the labels\n",
        "    np.save(f\"./data_prep/valid/labels_{count}.npy\", label.numpy())\n",
        "    # save the votes\n",
        "    np.save(f\"./data_prep/valid/votes_{count}.npy\", votes.numpy())\n",
        "\n",
        "    count += 1\n",
        "\n",
        "    if count > 34:\n",
        "        break\n",
        "    "
      ]
    },
    {
      "cell_type": "code",
      "execution_count": null,
      "metadata": {},
      "outputs": [],
      "source": [
        "# loop through data and save it as a numpy array\n",
        "count = 0\n",
        "for X, label, votes  in test_loader:\n",
        "    # save the images\n",
        "    np.save(f\"./data_prep/test/images_{count}.npy\", X.numpy())\n",
        "    # save the labels\n",
        "    np.save(f\"./data_prep/test/labels_{count}.npy\", label.numpy())\n",
        "    # save the votes\n",
        "    np.save(f\"./data_prep/test/votes_{count}.npy\", votes.numpy())\n",
        "\n",
        "    count += 1\n",
        "\n",
        "    if count > 34:\n",
        "        break\n",
        "    "
      ]
    }
  ],
  "metadata": {
    "accelerator": "GPU",
    "anaconda-cloud": {},
    "colab": {
      "gpuType": "T4",
      "provenance": []
    },
    "kernelspec": {
      "display_name": "Python 3",
      "name": "python3"
    },
    "language_info": {
      "codemirror_mode": {
        "name": "ipython",
        "version": 3
      },
      "file_extension": ".py",
      "mimetype": "text/x-python",
      "name": "python",
      "nbconvert_exporter": "python",
      "pygments_lexer": "ipython3",
      "version": "3.9.13"
    }
  },
  "nbformat": 4,
  "nbformat_minor": 0
}
