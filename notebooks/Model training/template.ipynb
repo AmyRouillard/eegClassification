{
 "cells": [
  {
   "cell_type": "markdown",
   "metadata": {},
   "source": [
    "# Template"
   ]
  },
  {
   "cell_type": "code",
   "execution_count": 3,
   "metadata": {},
   "outputs": [],
   "source": [
    "local = True"
   ]
  },
  {
   "cell_type": "code",
   "execution_count": 4,
   "metadata": {},
   "outputs": [],
   "source": [
    "if not local:\n",
    "    from google.colab import drive\n",
    "    drive.mount('/content/drive', force_remount=True)"
   ]
  },
  {
   "cell_type": "code",
   "execution_count": 5,
   "metadata": {},
   "outputs": [],
   "source": [
    "if not local:\n",
    "    %cd /content/drive/MyDrive/Sun/ML Shock/Final project/"
   ]
  },
  {
   "cell_type": "code",
   "execution_count": 6,
   "metadata": {},
   "outputs": [],
   "source": [
    "import sys\n",
    "if local:\n",
    "    sys.path.insert(0,\"C:/Users/Amy/Desktop/Green_Git/eegClassification/utils\")\n",
    "else:\n",
    "    sys.path.insert(0,\"/content/drive/MyDrive/Sun/ML Shock/Final project/\")"
   ]
  },
  {
   "cell_type": "code",
   "execution_count": 7,
   "metadata": {},
   "outputs": [],
   "source": [
    "# Import libraries\n",
    "import torch\n",
    "import numpy as np\n",
    "import pandas as pd\n",
    "import matplotlib.pyplot as plt\n",
    "import gc\n",
    "from tqdm import tqdm\n",
    "import os\n",
    "\n",
    "from CustomDataLoaderNPY import CustomDataset\n",
    "from torch.utils.data import DataLoader\n",
    "from model_architectures import CustomCNN, TransNet_Resnet18, TransNet_Efficientnetb0\n"
   ]
  },
  {
   "cell_type": "code",
   "execution_count": 8,
   "metadata": {},
   "outputs": [
    {
     "name": "stdout",
     "output_type": "stream",
     "text": [
      "CUDA is not available.  Training on CPU ...\n"
     ]
    }
   ],
   "source": [
    "# check if CUDA is available\n",
    "train_on_gpu = torch.cuda.is_available()\n",
    "\n",
    "if not train_on_gpu:\n",
    "    print('CUDA is not available.  Training on CPU ...')\n",
    "else:\n",
    "    print('CUDA is available!  Training on GPU ...')\n",
    "    print(\"GPU count\", torch.cuda.device_count())"
   ]
  },
  {
   "cell_type": "code",
   "execution_count": 9,
   "metadata": {},
   "outputs": [],
   "source": [
    "# Type of input data\n",
    "data_type = \"spec\" # \"eeg_raw\" #\"eeg_spec\"  #\n",
    "# number of subprocesses to use for data loading\n",
    "import multiprocessing as cpu\n",
    "num_workers = 0 #cpu.cpu_count() #- 1\n",
    "# how many samples per batch to load\n",
    "batch_size = 64\n"
   ]
  },
  {
   "cell_type": "code",
   "execution_count": 16,
   "metadata": {},
   "outputs": [],
   "source": [
    "# Load (train or test) data from csv file\n",
    "if local:\n",
    "    path = f\"C:/Users/Amy/Desktop/Green_Git/eegClassification/notebooks/Data processing/data_prep_all_{data_type}/\"\n",
    "    path_df = \"C:/Users/Amy/Desktop/Green_Git/eegClassification/files/\"\n",
    "else:\n",
    "    path = f\"./data_prep_all_{data_type}/\"\n",
    "    path_df = \"./data/\"\n"
   ]
  },
  {
   "cell_type": "code",
   "execution_count": 17,
   "metadata": {},
   "outputs": [],
   "source": [
    "if data_type == \"spec\":\n",
    "    input_shape = (3,400,299)\n",
    "elif data_type == \"eeg_spec\":\n",
    "    input_shape = (20,129,43)\n",
    "elif data_type == \"eeg_raw\":\n",
    "    input_shape = (20,9800)"
   ]
  },
  {
   "cell_type": "code",
   "execution_count": 18,
   "metadata": {},
   "outputs": [
    {
     "name": "stdout",
     "output_type": "stream",
     "text": [
      "Number of items 1\n"
     ]
    }
   ],
   "source": [
    "data_path = path+'train/'\n",
    "data_files = os.listdir(data_path)\n",
    "data_files = [f.split('.')[0].split('_')[1] for f in data_files if f.startswith('images')]\n",
    "N_items = len(data_files)\n",
    "\n",
    "print(\"Number of items\", N_items)"
   ]
  },
  {
   "cell_type": "code",
   "execution_count": 19,
   "metadata": {},
   "outputs": [],
   "source": [
    "sample_data = np.load(data_path+f'images_{data_files[0]}.npy')\n",
    "sample_votes = np.load(data_path+f'votes_{data_files[0]}.npy')"
   ]
  },
  {
   "cell_type": "code",
   "execution_count": 20,
   "metadata": {},
   "outputs": [
    {
     "data": {
      "text/plain": [
       "((46, 3, 400, 299), (46, 6))"
      ]
     },
     "execution_count": 20,
     "metadata": {},
     "output_type": "execute_result"
    }
   ],
   "source": [
    "sample_data.shape, sample_votes.shape"
   ]
  },
  {
   "cell_type": "code",
   "execution_count": 21,
   "metadata": {},
   "outputs": [],
   "source": [
    "# kl divergence loss\n",
    "def kl_loss(y_true, y_pred):\n",
    "    return np.sum(y_true * np.log(y_true / y_pred))"
   ]
  },
  {
   "cell_type": "code",
   "execution_count": 66,
   "metadata": {},
   "outputs": [],
   "source": [
    "idx = 0\n",
    "votes = sample_votes[idx]\n",
    "votes = votes/np.sum(votes)\n",
    "\n",
    "label_smoothing = 0.02\n",
    "N_classes = len(votes)\n",
    "votes = votes * (1 - label_smoothing) + label_smoothing / N_classes\n",
    "\n",
    "pred = np.array([0,1,5,0,0,1])\n",
    "pred = pred/np.sum(pred)\n",
    "pred = pred * (1 - label_smoothing) + label_smoothing / N_classes"
   ]
  },
  {
   "cell_type": "code",
   "execution_count": 67,
   "metadata": {},
   "outputs": [
    {
     "data": {
      "text/plain": [
       "(array([0.00333333, 0.00333333, 0.98333333, 0.00333333, 0.00333333,\n",
       "        0.00333333]),\n",
       " array([0.00333333, 0.14333333, 0.70333333, 0.00333333, 0.00333333,\n",
       "        0.14333333]))"
      ]
     },
     "execution_count": 67,
     "metadata": {},
     "output_type": "execute_result"
    }
   ],
   "source": [
    "votes, pred"
   ]
  },
  {
   "cell_type": "code",
   "execution_count": 68,
   "metadata": {},
   "outputs": [
    {
     "data": {
      "text/plain": [
       "(1.68016942830601, 0.3044572683780671)"
      ]
     },
     "execution_count": 68,
     "metadata": {},
     "output_type": "execute_result"
    }
   ],
   "source": [
    "kl_loss(votes, np.array([1/6]*6)),kl_loss(votes, pred)"
   ]
  },
  {
   "cell_type": "code",
   "execution_count": null,
   "metadata": {},
   "outputs": [],
   "source": [
    "# split data_files into training, validation, and test data (0.7, 0.2, 0.1)\n",
    "np.random.seed(0)\n",
    "np.random.shuffle(data_files)\n",
    "train_files = data_files[:int(0.7*N_items)]\n",
    "val_files = data_files[int(0.7*N_items):int(0.9*N_items)]\n",
    "test_files = data_files[int(0.9*N_items):]\n"
   ]
  },
  {
   "cell_type": "code",
   "execution_count": null,
   "metadata": {},
   "outputs": [],
   "source": [
    "train_data = CustomDataset(data_path, train_files)\n",
    "train_loader = DataLoader(train_data, batch_size=1, shuffle=False, num_workers=num_workers)\n",
    "\n",
    "valid_data = CustomDataset(data_path, val_files)\n",
    "valid_loader = DataLoader(valid_data, batch_size=1, shuffle=False, num_workers=num_workers)\n",
    "\n",
    "test_data = CustomDataset(data_path, test_files)\n",
    "test_loader = DataLoader(test_data, batch_size=1, shuffle=False, num_workers=num_workers)"
   ]
  },
  {
   "cell_type": "code",
   "execution_count": null,
   "metadata": {},
   "outputs": [],
   "source": [
    "# specify the image classes\n",
    "classes = [\n",
    "        \"seizure_vote\",\n",
    "        \"lpd_vote\",\n",
    "        \"gpd_vote\",\n",
    "        \"lrda_vote\",\n",
    "        \"grda_vote\",\n",
    "        \"other_vote\",\n",
    "    ]\n",
    "N_classes = len(classes)"
   ]
  },
  {
   "cell_type": "code",
   "execution_count": null,
   "metadata": {},
   "outputs": [],
   "source": [
    "get_batch_transform = lambda x, y: (\n",
    "    x[0, :],\n",
    "    y[0, :],\n",
    ")"
   ]
  },
  {
   "cell_type": "code",
   "execution_count": null,
   "metadata": {},
   "outputs": [],
   "source": []
  }
 ],
 "metadata": {
  "kernelspec": {
   "display_name": ".venv",
   "language": "python",
   "name": "python3"
  },
  "language_info": {
   "codemirror_mode": {
    "name": "ipython",
    "version": 3
   },
   "file_extension": ".py",
   "mimetype": "text/x-python",
   "name": "python",
   "nbconvert_exporter": "python",
   "pygments_lexer": "ipython3",
   "version": "3.11.2"
  }
 },
 "nbformat": 4,
 "nbformat_minor": 2
}
