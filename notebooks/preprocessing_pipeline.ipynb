{
 "cells": [
  {
   "cell_type": "code",
   "execution_count": 1,
   "metadata": {},
   "outputs": [],
   "source": [
    "# from google.colab import drive\n",
    "# drive.mount('/content/drive')"
   ]
  },
  {
   "cell_type": "code",
   "execution_count": 2,
   "metadata": {},
   "outputs": [],
   "source": [
    "# %cd /content/drive/MyDrive/Sun/ML Shock/Final project/eegClassification"
   ]
  },
  {
   "cell_type": "code",
   "execution_count": 3,
   "metadata": {},
   "outputs": [],
   "source": [
    "import pandas as pd\n",
    "import numpy as np\n",
    "import os\n",
    "import pyarrow.parquet as pq\n",
    "from scipy.signal import spectrogram"
   ]
  },
  {
   "cell_type": "code",
   "execution_count": 4,
   "metadata": {},
   "outputs": [],
   "source": [
    "\n",
    "# path = '/content/drive/MyDrive/Sun/ML Shock/Final project/eegClassification/'\n",
    "path = '../'\n",
    "\n",
    "# folder_eeg =  'sample_data/test_eegs/' \n",
    "# folder_spec =   'sample_data/test_spectrograms/' \n",
    "# train = False \n",
    "# df = pd.read_csv(path + 'sample_data/test.csv')\n",
    "\n",
    "folder_eeg =  'sample_data/train_eegs/'\n",
    "folder_spec =  'sample_data/train_spectrograms/' \n",
    "train =  True #\n",
    "df = pd.read_csv(path + 'sample_data/train.csv')\n",
    "\n"
   ]
  },
  {
   "cell_type": "code",
   "execution_count": 5,
   "metadata": {},
   "outputs": [],
   "source": [
    "\n",
    "files = os.listdir(path + folder_eeg)\n",
    "df_data = df[df['eeg_id'].isin([int(f.split('.')[0]) for f in files])]\n",
    "\n",
    "if not train:\n",
    "    df_data['eeg_label_offset_seconds'] = 0\n",
    "    df_data['spectrogram_label_offset_seconds'] = 0"
   ]
  },
  {
   "cell_type": "code",
   "execution_count": 6,
   "metadata": {},
   "outputs": [],
   "source": [
    "\n",
    "def preprocessing(df_data, path, folder_eeg, folder_spec, train):\n",
    "    freq_eeg = 200 #Hz\n",
    "    class_votes = ['seizure_vote', 'lpd_vote','gpd_vote', 'lrda_vote', 'grda_vote', 'other_vote']  \n",
    "    # classes = [v.split('_')[0] for v in class_votes]\n",
    "    label_cols = ['expert_consensus','label_id']\n",
    "    \n",
    "    \n",
    "    df_gr = df_data.groupby(['eeg_id', 'spectrogram_id'])\n",
    "    info = {}\n",
    "    for name, group in df_gr:\n",
    "        if train:\n",
    "            X = group[['eeg_label_offset_seconds', 'spectrogram_label_offset_seconds']+label_cols+class_votes]\n",
    "        else:\n",
    "            X = group[['eeg_id','eeg_label_offset_seconds', 'spectrogram_label_offset_seconds']]\n",
    "        info[name] = X\n",
    "\n",
    "    # load parquet files\n",
    "    data = {}\n",
    "    for k in info.keys():\n",
    "        d = {}\n",
    "        d['eeg'] = pq.read_table(path + folder_eeg +  str(k[0])+'.parquet')\n",
    "        d['spec'] = pq.read_table(path + folder_spec +  str(k[1])+'.parquet')\n",
    "        d['info'] = info[k]\n",
    "        data[k] = d\n",
    "\n",
    "    spec_types = ['LL', 'RL', 'LP', 'RP']\n",
    "    # select data from data_spec[0] corresponding to each type\n",
    "    for k in data.keys():\n",
    "        spec_data = {}\n",
    "        cols = list(data[k]['spec'].to_pandas().columns)\n",
    "        spec_data['spec_freq (Hz)'] = np.array([float(c.split('_')[-1]) for c in cols if c.split('_')[0] == 'LL'])\n",
    "        spec_data['spec_time (s)'] = data[k]['spec'].to_pandas().filter(regex='time').values.reshape(-1)\n",
    "        \n",
    "        for spec_type in spec_types:\n",
    "            spec_data[spec_type] = data[k]['spec'].to_pandas().filter(regex=spec_type).values\n",
    "\n",
    "        data[k]['spec_sep'] = spec_data\n",
    "\n",
    "    for k in data.keys():\n",
    "        eeg_data = {}\n",
    "        cols = list(data[k]['eeg'].to_pandas().columns)\n",
    "\n",
    "        eeg_data['eeg_time (s)'] = np.arange(1, data[k]['eeg'].to_pandas().shape[0]+1)/freq_eeg\n",
    "\n",
    "        for type in cols:\n",
    "            eeg_data[type] = data[k]['eeg'].to_pandas()[type].values\n",
    "\n",
    "        data[k]['eeg_sep'] = eeg_data\n",
    "\n",
    "    ####\n",
    "    if train:\n",
    "        item_id = 'label_id'\n",
    "    else:\n",
    "        item_id = 'eeg_id'\n",
    "\n",
    "    data_preprocessed = {}\n",
    "    for k in data.keys():\n",
    "\n",
    "        if train:\n",
    "            votes = data[k]['info'][class_votes].to_numpy()\n",
    "            votes_list = [votes[i,:] for i in range(votes.shape[0])]\n",
    "            consensus = data[k]['info']['expert_consensus'].to_list()\n",
    "\n",
    "        for kk, offset_eeg, offset_spec, i in zip(data[k]['info'][item_id].to_list(), data[k]['info']['eeg_label_offset_seconds'].to_list(), data[k]['info']['spectrogram_label_offset_seconds'].to_list(), range(len(data[k]['info']['spectrogram_label_offset_seconds'].to_list()))):\n",
    "            \n",
    "            d = {}\n",
    "            \n",
    "            for kkk in data[k]['spec_sep'].keys():\n",
    "                if kkk == 'spec_freq (Hz)':\n",
    "                    d[kkk] = data[k]['spec_sep'][kkk]\n",
    "                elif kkk == 'spec_time (s)':\n",
    "                    freq_spec = 1/(data[k]['spec_sep'][kkk][1]-data[k]['spec_sep'][kkk][0])\n",
    "                    start = int((0+offset_spec)*freq_spec)\n",
    "                    end = int((600+offset_spec)*freq_spec)-1\n",
    "                    d[kkk] = data[k]['spec_sep'][kkk][start:end]\n",
    "                else:\n",
    "                    start = int((0+offset_spec)*freq_spec)\n",
    "                    end = int((600+offset_spec)*freq_spec)-1\n",
    "                    if start >= len(data[k]['spec_sep'][kkk]) or end >= len(data[k]['spec_sep'][kkk]):\n",
    "                        print('issue spec:', start, end, data[k]['spec_sep'][kkk].shape, data[k]['spec_sep'][kkk][start:end, :].shape)\n",
    "                    else:\n",
    "                        d['data_spec_'+kkk] = data[k]['spec_sep'][kkk][start:end, :]\n",
    "\n",
    "            for kkk in data[k]['eeg_sep'].keys():\n",
    "                start = int((0+offset_eeg)*freq_eeg)\n",
    "                end = int((49+offset_eeg)*freq_eeg)\n",
    "                if start >= len(data[k]['eeg_sep'][kkk]) or end >= len(data[k]['eeg_sep'][kkk]):\n",
    "                    print('issue eeg:', start, end, data[k]['eeg_sep'][kkk].shape, data[k]['eeg_sep'][kkk][start:end].shape)\n",
    "                else:\n",
    "                    if kkk == 'eeg_time (s)':\n",
    "                        d[kkk] = data[k]['eeg_sep'][kkk][start:end]\n",
    "                    else:\n",
    "                        d['data_eeg_'+kkk] = data[k]['eeg_sep'][kkk][start:end]\n",
    "\n",
    "            d['freq'] = (freq_eeg, freq_spec)\n",
    "            if train:\n",
    "                d['class_label'] = consensus[i]\n",
    "                d['class_votes'] = votes_list[i]\n",
    "                d['class_probs'] = votes_list[i]/np.sum(votes_list[i])\n",
    "            d['labels'] = class_votes\n",
    "\n",
    "            del freq_spec\n",
    "\n",
    "            data_preprocessed[kk] = d\n",
    "            \n",
    "    # first ken in data_processed\n",
    "    kk = [k for k in data_preprocessed.keys()][0]\n",
    "    eeg_types = [x for x in data_preprocessed[kk].keys() if 'data_eeg' in x]\n",
    "    for kk in data_preprocessed.keys():\n",
    "        for i, k in enumerate(eeg_types): \n",
    "            _, _, Sxx = spectrogram(data_preprocessed[kk][k], fs=data_preprocessed[kk]['freq'][0])\n",
    "            data_preprocessed[kk][k+'_spec'] = Sxx\n",
    "\n",
    "    return  data_preprocessed"
   ]
  },
  {
   "cell_type": "code",
   "execution_count": 7,
   "metadata": {},
   "outputs": [],
   "source": [
    "data_preprocessed = preprocessing(df_data, path, folder_eeg, folder_spec, train)"
   ]
  },
  {
   "cell_type": "markdown",
   "metadata": {},
   "source": [
    "## Check data is consistent"
   ]
  },
  {
   "cell_type": "code",
   "execution_count": 8,
   "metadata": {},
   "outputs": [],
   "source": [
    "special_keys = ['spec_freq (Hz)', 'spec_time (s)','eeg_time (s)','freq', \n",
    "                    'class_label','class_votes','class_probs','labels',]"
   ]
  },
  {
   "cell_type": "code",
   "execution_count": 9,
   "metadata": {},
   "outputs": [],
   "source": [
    "shapes = []\n",
    "freqs = []\n",
    "count = 0\n",
    "for kk in data_preprocessed.keys():\n",
    "    for k in data_preprocessed[kk].keys():\n",
    "        if k not in special_keys:\n",
    "            if data_preprocessed[kk][k].shape not in shapes:\n",
    "                shapes.append(data_preprocessed[kk][k].shape)\n",
    "        if data_preprocessed[kk]['freq'] not in freqs:\n",
    "            freqs.append(data_preprocessed[kk]['freq'])\n",
    "        \n",
    "    count+=1"
   ]
  },
  {
   "cell_type": "code",
   "execution_count": 10,
   "metadata": {},
   "outputs": [
    {
     "data": {
      "text/plain": [
       "(69, [(299, 100), (9800,), (129, 43)], [(200, 0.5)])"
      ]
     },
     "execution_count": 10,
     "metadata": {},
     "output_type": "execute_result"
    }
   ],
   "source": [
    "count, shapes, freqs\n",
    "# train \n",
    "# (69, [(299, 100), (9800,), (129, 43)], [(200, 0.5)])\n",
    "# test\n",
    "# (1, [(299, 100), (9800,), (129, 43)], [(200, 0.5)])"
   ]
  }
 ],
 "metadata": {
  "kernelspec": {
   "display_name": ".venv",
   "language": "python",
   "name": "python3"
  },
  "language_info": {
   "codemirror_mode": {
    "name": "ipython",
    "version": 3
   },
   "file_extension": ".py",
   "mimetype": "text/x-python",
   "name": "python",
   "nbconvert_exporter": "python",
   "pygments_lexer": "ipython3",
   "version": "3.9.13"
  }
 },
 "nbformat": 4,
 "nbformat_minor": 2
}
